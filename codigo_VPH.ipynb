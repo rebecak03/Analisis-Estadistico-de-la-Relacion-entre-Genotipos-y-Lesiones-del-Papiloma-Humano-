{
  "nbformat": 4,
  "nbformat_minor": 0,
  "metadata": {
    "colab": {
      "provenance": []
    },
    "kernelspec": {
      "name": "python3",
      "display_name": "Python 3"
    },
    "language_info": {
      "name": "python"
    }
  },
  "cells": [
    {
      "cell_type": "markdown",
      "source": [
        "Carga de los datos y librerías"
      ],
      "metadata": {
        "id": "RnhiMYOrNzc4"
      }
    },
    {
      "cell_type": "code",
      "execution_count": null,
      "metadata": {
        "id": "iMtIA-BFGaIJ"
      },
      "outputs": [],
      "source": [
        "import pandas as pd\n",
        "import numpy as np\n",
        "import matplotlib.pyplot as plt\n",
        "from sklearn.decomposition import PCA\n",
        "from sklearn.preprocessing import StandardScaler\n",
        "import matplotlib.pyplot as plt\n",
        "import seaborn as sns\n",
        "import pandas as pd\n",
        "from sklearn.model_selection import train_test_split, GridSearchCV, cross_val_score\n",
        "from sklearn.tree import DecisionTreeClassifier\n",
        "from sklearn.linear_model import LogisticRegression\n",
        "from sklearn.metrics import classification_report\n",
        "\n",
        "%matplotlib inline\n",
        "\n",
        "hpv_data= pd.read_csv('/content/hpv_data.csv')\n",
        "hpv_data.tail()"
      ]
    },
    {
      "cell_type": "markdown",
      "source": [
        "# Analisis de la correlacion entre el tipo de displasia y los geneotipos"
      ],
      "metadata": {
        "id": "0QmsAWfAQgwO"
      }
    },
    {
      "cell_type": "code",
      "source": [
        "import matplotlib.pyplot as plt\n",
        "import seaborn as sns\n",
        "import pandas as pd\n",
        "\n",
        "displasia_mapping = {'NILM': 0, 'LGSIL': 1, 'HGSIL': 2, 'ICC': 3, 'CACU': 3}\n",
        "hpv_data['Tipo displasia Encoded'] = hpv_data['Tipo displasia'].map(displasia_mapping)\n",
        "\n",
        "genotype_columns = hpv_data.columns[2:-1]  # Excluyendo la columna de edad y la última\n",
        "\n",
        "correlation_matrix = hpv_data[genotype_columns].corrwith(hpv_data['Tipo displasia Encoded'])\n",
        "correlation_matrix_sorted = correlation_matrix.sort_values(ascending=False)\n",
        "\n",
        "plt.figure(figsize=(10, 8))\n",
        "sns.barplot(x=correlation_matrix_sorted.values, y=correlation_matrix_sorted.index,palette='viridis' )\n",
        "plt.title('Correlación entre Genotipos de HPV y Tipo de Displasia')\n",
        "plt.xlabel('Coeficiente de Correlación')\n",
        "plt.ylabel('Genotipo de HPV')\n",
        "plt.show()\n",
        "\n",
        "correlation_matrix_sorted\n"
      ],
      "metadata": {
        "id": "3j9I85a1QuZ5"
      },
      "execution_count": null,
      "outputs": []
    },
    {
      "cell_type": "markdown",
      "source": [
        "Genotipos con Mayor Correlación Positiva: Los genotipos 51, 16 y 33 tienen las correlaciones más altas y positivas con el tipo de displasia. Esto indica que estos genotipos están más fuertemente asociados con tipos de displasia más severos (HGSIL, ICC, CACU).\n",
        "\n",
        "Genotipos con Correlación Negativa o Baja: Algunos genotipos, como el 6 y el 11, muestran una correlación negativa o muy baja. Esto sugiere una asociación menos significativa o incluso inversa con los tipos de displasia más severos.\n",
        "\n",
        "Genotipos sin Correlación Significativa (NaN): Algunos genotipos, como el 26, 64, 69 y 73, no tienen correlaciones calculadas (NaN), lo que podría deberse a la falta de variabilidad o presencia en su muestra.\n",
        "Altos Valores Positivos de Correlación: Indican una asociación más fuerte con formas más severas de displasia o cáncer cervical. Por ejemplo, el genotipo 51, que mostró la correlación positiva más alta, tiene una asociación más fuerte con 'CACU'.\n",
        "\n",
        "Valores Negativos o Bajos de Correlación: Significan que el genotipo tiene una asociación menor o inversa con las formas más severas de displasia o cáncer cervical.\n",
        "\n",
        "NaN: Geneotipos que no tienen ninguna correlacion con el tipo de displasia.\n",
        "\n",
        "**Un genotipo con una correlación positiva alta no necesariamente causa las formas más severas de displasia, pero podría ser un factor de riesgo o un marcador biológico asociado con la severidad de la enfermedad. Estos hallazgos pueden ser útiles para comprender mejor cómo ciertos genotipos del virus del papiloma humano están relacionados con el desarrollo de lesiones cervicales y cáncer cervical.\n",
        "\n",
        "\n",
        "\n",
        "*   La variedad en las magnitudes de correlación sugiere que diferentes genotipos del VPH pueden tener distintos niveles de influencia en la progresión de las lesiones cervicales y el cáncer cervical.\n",
        "*   Algunos genotipos no mostraron una correlación significativa (NaN en los resultados). Esto podría indicar que estos genotipos no tienen un papel importante en la determinación de la severidad de la displasia cervical, o que su influencia no se puede capturar mediante un análisis de correlación lineal.\n",
        "\n",
        "\n",
        "*   Los genotipos con fuertes correlaciones positivas podrían ser objetivos claves en el diagnóstico temprano y la prevención del cáncer cervical. Su identificación en pruebas de VPH podría ayudar a categorizar a los pacientes en grupos de riesgo más alto para una vigilancia más estrecha.\n",
        "*   Elemento de lista\n",
        "\n",
        "\n",
        "\n"
      ],
      "metadata": {
        "id": "GnjYp-zdRPkM"
      }
    },
    {
      "cell_type": "markdown",
      "source": [
        "# Frecuencia de Genotipos de HPV en la Base de Datos'"
      ],
      "metadata": {
        "id": "i9W4ogOyxPM3"
      }
    },
    {
      "cell_type": "code",
      "source": [
        "genotype_columns = hpv_data.columns[2:-1]\n",
        "hpv_data[genotype_columns] = hpv_data[genotype_columns].apply(pd.to_numeric, errors='coerce')\n",
        "\n",
        "genotype_frequencies = hpv_data[genotype_columns].sum().sort_values(ascending=False)\n",
        "\n",
        "plt.figure(figsize=(12, 8))\n",
        "sns.barplot(x=genotype_frequencies.values, y=genotype_frequencies.index, palette='viridis')\n",
        "plt.title('Frecuencia de Genotipos de HPV en la Base de Datos')\n",
        "plt.xlabel('Frecuencia')\n",
        "plt.ylabel('Genotipo de HPV')\n",
        "plt.show()\n",
        "genotype_frequencies"
      ],
      "metadata": {
        "id": "w-qmUPfNxTOr"
      },
      "execution_count": null,
      "outputs": []
    },
    {
      "cell_type": "markdown",
      "source": [
        "genotipo 51 es el mas frecuente\n",
        "genotopi 16\n",
        "no a`pareen los genotipos 26,69,64 y 73"
      ],
      "metadata": {
        "id": "J-MkqzZw0qBr"
      }
    },
    {
      "cell_type": "markdown",
      "source": [
        "# Frecuencia de Tipo de Displasia en la Base de Datos"
      ],
      "metadata": {
        "id": "gkaBDFiaZ6yx"
      }
    },
    {
      "cell_type": "code",
      "source": [
        "import matplotlib.pyplot as plt\n",
        "import seaborn as sns\n",
        "displasia_counts = hpv_data['Tipo displasia'].value_counts()\n",
        "plt.figure(figsize=(10, 6))\n",
        "sns.countplot(data=hpv_data, x='Tipo displasia', palette='coolwarm')\n",
        "plt.title('Frecuencia de Tipo de Displasia en la Base de Datos')\n",
        "plt.ylabel('Tipo de Displasia')\n",
        "plt.xticks(rotation=45)\n",
        "plt.show()\n",
        "displasia_counts"
      ],
      "metadata": {
        "id": "8GP7p6MlRtGP"
      },
      "execution_count": null,
      "outputs": []
    },
    {
      "cell_type": "markdown",
      "source": [
        "Genotipos con Alta Correlación y Alta Frecuencia: Algunos genotipos, como el 51 y el 16, no solo son comunes en la base de datos sino que también tienen una correlación positiva significativa con tipos de displasia más severos. Esto sugiere que estos genotipos comunes podrían jugar un papel importante en el desarrollo de displasias cervicales más graves.\n",
        "\n",
        "Genotipos Comunes con Correlación Negativa o Baja: Genotipos como el 6 y el 11, aunque relativamente comunes, muestran una correlación negativa o baja con la severidad de la displasia. Esto podría indicar que, aunque son frecuentes, estos genotipos podrían no estar tan fuertemente asociados con el desarrollo de displasias cervicales graves.\n",
        "Genotipos Menos Comunes: Algunos genotipos con menor frecuencia, como el 33 y el 35, muestran una correlación positiva con la severidad de la displasia, lo que indica que, aunque no son tan comunes, pueden tener un impacto significativo en el desarrollo de displasias más severas.\n",
        "\n",
        "Genotipos Ausentes o con Correlación Indeterminada: Los genotipos como el 26, 64, 69 y 73 no están presentes en la muestra o tienen una correlación indeterminada (NaN). Esto puede deberse a su baja prevalencia o a la falta de suficiente variabilidad en los datos para calcular una correlación significativaDe este gráfico"
      ],
      "metadata": {
        "id": "UkNNohAL8wcB"
      }
    },
    {
      "cell_type": "markdown",
      "source": [
        "# Correlación entre edad y tipo de dispasia"
      ],
      "metadata": {
        "id": "v66U8bT3PCm7"
      }
    },
    {
      "cell_type": "code",
      "source": [
        "displasia_mapping = {'NILM': 0, 'LGSIL': 1, 'HGSIL': 2, 'ICC': 3, 'CACU': 3}\n",
        "hpv_data['Tipo displasia Encoded'] = hpv_data['Tipo displasia'].map(displasia_mapping)\n",
        "\n",
        "edad_column = ['Edad']\n",
        "correlation_matrix = hpv_data[edad_column].corrwith(hpv_data['Tipo displasia Encoded'])\n",
        "print('correlacion entre edad y tipo de displasia:', correlation_matrix)\n"
      ],
      "metadata": {
        "id": "7GjQolOOO_Xd",
        "colab": {
          "base_uri": "https://localhost:8080/"
        },
        "outputId": "ee5aac76-482e-42ca-e688-ffcdbd6ec796"
      },
      "execution_count": 76,
      "outputs": [
        {
          "output_type": "stream",
          "name": "stdout",
          "text": [
            "correlacion entre edad y tipo de displasia: Edad    0.45831\n",
            "dtype: float64\n"
          ]
        }
      ]
    },
    {
      "cell_type": "code",
      "source": [
        "plt.figure(figsize=(10, 8))\n",
        "sns.boxplot(data=hpv_data, x='Tipo displasia Encoded', y='Edad', palette='coolwarm')\n",
        "plt.title('Correlación entre Edad y Tipo de Displasia')\n",
        "plt.xlabel('Tipo de Displasia')\n",
        "plt.ylabel('Edad')\n",
        "plt.xticks(ticks=[0, 1, 2, 3], labels=['NILM', 'LGSIL', 'HGSIL', 'CACU / ICC'])\n",
        "plt.show()\n"
      ],
      "metadata": {
        "id": "cIf-CB483WRE",
        "colab": {
          "base_uri": "https://localhost:8080/",
          "height": 719
        },
        "outputId": "20d6577e-e4f0-4245-f93d-08bbf5d0740f"
      },
      "execution_count": 78,
      "outputs": [
        {
          "output_type": "display_data",
          "data": {
            "text/plain": [
              "<Figure size 1000x800 with 1 Axes>"
            ],
            "image/png": "[encoded data removed]"
          },
          "metadata": {}
        }
      ]
    },
    {
      "cell_type": "code",
      "source": [
        "genotype_columns = hpv_data.columns[2:-1]\n",
        "correlation_matrix = hpv_data[genotype_columns].corrwith(hpv_data['Edad'])\n",
        "print('correlacion entre edad y genotipos:', correlation_matrix)"
      ],
      "metadata": {
        "id": "aFjPl6GlG6Ci"
      },
      "execution_count": null,
      "outputs": []
    },
    {
      "cell_type": "markdown",
      "source": [
        "**ANALISIS**: **0.45831** Este resultado sugiere que existe una relación entre la edad y la severidad de la displasia, es una correlación positiva moderada. a medida que aumenta la edad de las mujeres, hay una **tendencia moderada** hacia tipos displasia más severos. sin embargo, aunque la correlación es positiva, no es extremadamente fuerte (no está cerca de 1), lo que significa que la edad podría ser solo uno de los varios factores que contribuyen a la severidad de la displasia."
      ],
      "metadata": {
        "id": "3xPyDq3fdwId"
      }
    },
    {
      "cell_type": "markdown",
      "source": [
        "# heatmap"
      ],
      "metadata": {
        "id": "hPfhE8FTilAo"
      }
    },
    {
      "cell_type": "code",
      "source": [
        "\n",
        "genotype_columns = hpv_data.columns[2:-1]  # las columnas de genotipo\n",
        "displasia_column = 'Tipo displasia'\n",
        "\n",
        "df_with_dummies = pd.get_dummies(hpv_data, columns=[displasia_column])\n",
        "\n",
        "\n",
        "correlation_matrix = df_with_dummies.corr()\n",
        "\n",
        "displasia_columns = [col for col in df_with_dummies.columns if col.startswith(displasia_column + '_')]\n",
        "\n",
        "actual_genotype_columns = [col for col in genotype_columns if col in correlation_matrix.index]\n",
        "actual_displasia_columns = [col for col in displasia_columns if col in correlation_matrix.columns]\n",
        "\n",
        "\n",
        "filtered_correlation_matrix = correlation_matrix.loc[actual_genotype_columns, actual_displasia_columns]\n",
        "\n",
        "plt.figure(figsize=(12, 8))\n",
        "sns.heatmap(filtered_correlation_matrix, annot=True, cmap='coolwarm', linewidths=.5)\n",
        "plt.title('Correlación entre Genotipos de VPH y Tipos de Displasia')\n",
        "plt.xlabel('Tipos de Displasia')\n",
        "plt.ylabel('Genotipos de VPH')\n",
        "plt.xticks(rotation=45)\n",
        "plt.yticks(rotation=0)\n",
        "plt.tight_layout()\n",
        "plt.show()"
      ],
      "metadata": {
        "id": "kAi2FhRKrlEU"
      },
      "execution_count": null,
      "outputs": []
    },
    {
      "cell_type": "markdown",
      "source": [
        "-una correlacion postiva nos dice que es genotipo son mas prevalentes en mujeres mayores en nuestra base de datos\n",
        "-negativa: (6 y CP) son mas comunes en menore\n",
        "\n",
        "\n",
        "6, 31, 33, 51, y 35 son los genotipos asociados con displasis mas severas"
      ],
      "metadata": {
        "id": "ERnjKoP7twUt"
      }
    },
    {
      "cell_type": "markdown",
      "source": [
        "# modelo con el tipo de displasia con la variable dependiente"
      ],
      "metadata": {
        "id": "3CdPP9EUgi4X"
      }
    },
    {
      "cell_type": "markdown",
      "source": [
        "**modelo de regresión logística multinomial**"
      ],
      "metadata": {
        "id": "ayY7vp0MuF5J"
      }
    },
    {
      "cell_type": "code",
      "source": [
        "import pandas as pd\n",
        "import statsmodels.api as sm\n",
        "\n",
        "X = hpv_data[['Edad']]\n",
        "y = hpv_data['Tipo displasia Encoded']\n",
        "\n",
        "X = sm.add_constant(X)\n",
        "model = sm.MNLogit(y, X).fit()\n",
        "print(model.summary())\n"
      ],
      "metadata": {
        "id": "olQuXeD2mzT3",
        "colab": {
          "base_uri": "https://localhost:8080/"
        },
        "outputId": "9f80aedd-ad09-49f7-ad54-4882e89cacd1"
      },
      "execution_count": 80,
      "outputs": [
        {
          "output_type": "stream",
          "name": "stdout",
          "text": [
            "Optimization terminated successfully.\n",
            "         Current function value: 1.188824\n",
            "         Iterations 6\n",
            "                            MNLogit Regression Results                            \n",
            "==================================================================================\n",
            "Dep. Variable:     Tipo displasia Encoded   No. Observations:                  883\n",
            "Model:                            MNLogit   Df Residuals:                      877\n",
            "Method:                               MLE   Df Model:                            3\n",
            "Date:                    Sat, 25 Nov 2023   Pseudo R-squ.:                 0.08867\n",
            "Time:                            00:49:09   Log-Likelihood:                -1049.7\n",
            "converged:                           True   LL-Null:                       -1151.9\n",
            "Covariance Type:                nonrobust   LLR p-value:                 5.034e-44\n",
            "============================================================================================\n",
            "Tipo displasia Encoded=1       coef    std err          z      P>|z|      [0.025      0.975]\n",
            "--------------------------------------------------------------------------------------------\n",
            "const                       -1.1161      0.300     -3.725      0.000      -1.703      -0.529\n",
            "Edad                         0.0472      0.009      4.990      0.000       0.029       0.066\n",
            "--------------------------------------------------------------------------------------------\n",
            "Tipo displasia Encoded=2       coef    std err          z      P>|z|      [0.025      0.975]\n",
            "--------------------------------------------------------------------------------------------\n",
            "const                       -4.1054      0.390    -10.515      0.000      -4.871      -3.340\n",
            "Edad                         0.1103      0.011     10.013      0.000       0.089       0.132\n",
            "--------------------------------------------------------------------------------------------\n",
            "Tipo displasia Encoded=3       coef    std err          z      P>|z|      [0.025      0.975]\n",
            "--------------------------------------------------------------------------------------------\n",
            "const                       -5.7080      0.479    -11.921      0.000      -6.647      -4.770\n",
            "Edad                         0.1369      0.012     11.016      0.000       0.113       0.161\n",
            "============================================================================================\n"
          ]
        }
      ]
    },
    {
      "cell_type": "markdown",
      "source": [
        "const (Constante): El término constante (también conocido como intercepto) para cuando 'Tipo displasia Encoded' es 1. Un valor de -1.1161 sugiere que, cuando la edad es 0, el logaritmo de la razón de probabilidades de tener LGSIL (tipo displasia = 1) en comparación con NILM (tipo displasia = 0, la categoría de referencia) es -1.1161."
      ],
      "metadata": {
        "id": "z-yy6DDFs1CO"
      }
    },
    {
      "cell_type": "code",
      "source": [
        "age_values = np.linspace(hpv_data['Edad'].min(), hpv_data['Edad'].max(), 300)\n",
        "X_new = pd.DataFrame({'Edad': age_values})\n",
        "X_new = sm.add_constant(X_new)\n",
        "\n",
        "predicted_probs = model.predict(X_new)\n",
        "\n",
        "plt.figure(figsize=(10, 6))\n",
        "\n",
        "for i in range(1, predicted_probs.shape[1]):\n",
        "    plt.plot(age_values, predicted_probs.iloc[:, i], label=f'Tipo displasia {i}')\n",
        "\n",
        "plt.xlabel('Edad')\n",
        "plt.ylabel('Probabilidad Predicta')\n",
        "plt.title('Probabilidad Predicta de Tipo de Displasia por Edad')\n",
        "plt.legend(title='Tipo de Displasia')\n",
        "plt.show()\n"
      ],
      "metadata": {
        "colab": {
          "base_uri": "https://localhost:8080/",
          "height": 405
        },
        "id": "G2v0QXOEw3Yd",
        "outputId": "54984508-4061-4aaf-8fb1-9fd48ec4cb27"
      },
      "execution_count": 79,
      "outputs": [
        {
          "output_type": "error",
          "ename": "NotFittedError",
          "evalue": "ignored",
          "traceback": [
            "\u001b[0;31m---------------------------------------------------------------------------\u001b[0m",
            "\u001b[0;31mNotFittedError\u001b[0m                            Traceback (most recent call last)",
            "\u001b[0;32m<ipython-input-79-48c064c2de37>\u001b[0m in \u001b[0;36m<cell line: 5>\u001b[0;34m()\u001b[0m\n\u001b[1;32m      3\u001b[0m \u001b[0mX_new\u001b[0m \u001b[0;34m=\u001b[0m \u001b[0msm\u001b[0m\u001b[0;34m.\u001b[0m\u001b[0madd_constant\u001b[0m\u001b[0;34m(\u001b[0m\u001b[0mX_new\u001b[0m\u001b[0;34m)\u001b[0m\u001b[0;34m\u001b[0m\u001b[0;34m\u001b[0m\u001b[0m\n\u001b[1;32m      4\u001b[0m \u001b[0;34m\u001b[0m\u001b[0m\n\u001b[0;32m----> 5\u001b[0;31m \u001b[0mpredicted_probs\u001b[0m \u001b[0;34m=\u001b[0m \u001b[0mmodel\u001b[0m\u001b[0;34m.\u001b[0m\u001b[0mpredict\u001b[0m\u001b[0;34m(\u001b[0m\u001b[0mX_new\u001b[0m\u001b[0;34m)\u001b[0m\u001b[0;34m\u001b[0m\u001b[0;34m\u001b[0m\u001b[0m\n\u001b[0m\u001b[1;32m      6\u001b[0m \u001b[0;34m\u001b[0m\u001b[0m\n\u001b[1;32m      7\u001b[0m \u001b[0mplt\u001b[0m\u001b[0;34m.\u001b[0m\u001b[0mfigure\u001b[0m\u001b[0;34m(\u001b[0m\u001b[0mfigsize\u001b[0m\u001b[0;34m=\u001b[0m\u001b[0;34m(\u001b[0m\u001b[0;36m10\u001b[0m\u001b[0;34m,\u001b[0m \u001b[0;36m6\u001b[0m\u001b[0;34m)\u001b[0m\u001b[0;34m)\u001b[0m\u001b[0;34m\u001b[0m\u001b[0;34m\u001b[0m\u001b[0m\n",
            "\u001b[0;32m/usr/local/lib/python3.10/dist-packages/sklearn/tree/_classes.py\u001b[0m in \u001b[0;36mpredict\u001b[0;34m(self, X, check_input)\u001b[0m\n\u001b[1;32m    423\u001b[0m             \u001b[0mThe\u001b[0m \u001b[0mpredicted\u001b[0m \u001b[0mclasses\u001b[0m\u001b[0;34m,\u001b[0m \u001b[0;32mor\u001b[0m \u001b[0mthe\u001b[0m \u001b[0mpredict\u001b[0m \u001b[0mvalues\u001b[0m\u001b[0;34m.\u001b[0m\u001b[0;34m\u001b[0m\u001b[0;34m\u001b[0m\u001b[0m\n\u001b[1;32m    424\u001b[0m         \"\"\"\n\u001b[0;32m--> 425\u001b[0;31m         \u001b[0mcheck_is_fitted\u001b[0m\u001b[0;34m(\u001b[0m\u001b[0mself\u001b[0m\u001b[0;34m)\u001b[0m\u001b[0;34m\u001b[0m\u001b[0;34m\u001b[0m\u001b[0m\n\u001b[0m\u001b[1;32m    426\u001b[0m         \u001b[0mX\u001b[0m \u001b[0;34m=\u001b[0m \u001b[0mself\u001b[0m\u001b[0;34m.\u001b[0m\u001b[0m_validate_X_predict\u001b[0m\u001b[0;34m(\u001b[0m\u001b[0mX\u001b[0m\u001b[0;34m,\u001b[0m \u001b[0mcheck_input\u001b[0m\u001b[0;34m)\u001b[0m\u001b[0;34m\u001b[0m\u001b[0;34m\u001b[0m\u001b[0m\n\u001b[1;32m    427\u001b[0m         \u001b[0mproba\u001b[0m \u001b[0;34m=\u001b[0m \u001b[0mself\u001b[0m\u001b[0;34m.\u001b[0m\u001b[0mtree_\u001b[0m\u001b[0;34m.\u001b[0m\u001b[0mpredict\u001b[0m\u001b[0;34m(\u001b[0m\u001b[0mX\u001b[0m\u001b[0;34m)\u001b[0m\u001b[0;34m\u001b[0m\u001b[0;34m\u001b[0m\u001b[0m\n",
            "\u001b[0;32m/usr/local/lib/python3.10/dist-packages/sklearn/utils/validation.py\u001b[0m in \u001b[0;36mcheck_is_fitted\u001b[0;34m(estimator, attributes, msg, all_or_any)\u001b[0m\n\u001b[1;32m   1388\u001b[0m \u001b[0;34m\u001b[0m\u001b[0m\n\u001b[1;32m   1389\u001b[0m     \u001b[0;32mif\u001b[0m \u001b[0;32mnot\u001b[0m \u001b[0mfitted\u001b[0m\u001b[0;34m:\u001b[0m\u001b[0;34m\u001b[0m\u001b[0;34m\u001b[0m\u001b[0m\n\u001b[0;32m-> 1390\u001b[0;31m         \u001b[0;32mraise\u001b[0m \u001b[0mNotFittedError\u001b[0m\u001b[0;34m(\u001b[0m\u001b[0mmsg\u001b[0m \u001b[0;34m%\u001b[0m \u001b[0;34m{\u001b[0m\u001b[0;34m\"name\"\u001b[0m\u001b[0;34m:\u001b[0m \u001b[0mtype\u001b[0m\u001b[0;34m(\u001b[0m\u001b[0mestimator\u001b[0m\u001b[0;34m)\u001b[0m\u001b[0;34m.\u001b[0m\u001b[0m__name__\u001b[0m\u001b[0;34m}\u001b[0m\u001b[0;34m)\u001b[0m\u001b[0;34m\u001b[0m\u001b[0;34m\u001b[0m\u001b[0m\n\u001b[0m\u001b[1;32m   1391\u001b[0m \u001b[0;34m\u001b[0m\u001b[0m\n\u001b[1;32m   1392\u001b[0m \u001b[0;34m\u001b[0m\u001b[0m\n",
            "\u001b[0;31mNotFittedError\u001b[0m: This DecisionTreeClassifier instance is not fitted yet. Call 'fit' with appropriate arguments before using this estimator."
          ]
        }
      ]
    },
    {
      "cell_type": "markdown",
      "source": [
        "conteo"
      ],
      "metadata": {
        "id": "6nNEOpnexME3"
      }
    },
    {
      "cell_type": "code",
      "source": [
        "\n",
        "data_description = hpv_data.describe()\n",
        "data_null_values = hpv_data.isnull().sum()\n",
        "class_distribution = hpv_data['Tipo displasia'].value_counts()\n",
        "\n",
        "(data_description, data_null_values, class_distribution)\n"
      ],
      "metadata": {
        "id": "V9vBabsTc8yp"
      },
      "execution_count": null,
      "outputs": []
    },
    {
      "cell_type": "code",
      "source": [
        "displasia_mapping = {'NILM': 0, 'LGSIL': 1, 'HGSIL': 2, 'ICC': 3, 'CACU': 3}\n",
        "hpv_data['Tipo displasia Encoded'] = hpv_data['Tipo displasia'].map(displasia_mapping)\n",
        "hpv_data = hpv_data.drop(['Unnamed: 38'], axis=1)\n",
        "# Preparar las características (X) y la variable objetivo (y)\n",
        "X = hpv_data.drop(['Tipo displasia', 'Tipo displasia Encoded'], axis=1)\n",
        "y = hpv_data['Tipo displasia Encoded']\n",
        "\n",
        "# Convertir todas las columnas de características a numéricas y manejar los valores no numéricos\n",
        "for column in X.columns:\n",
        "    X[column] = pd.to_numeric(X[column], errors='coerce').fillna(0)\n",
        "\n",
        "# Dividir los datos en conjuntos de entrenamiento y prueba\n",
        "X_train, X_test, y_train, y_test = train_test_split(X, y, test_size=0.3, random_state=42)\n",
        "\n",
        "# entrenar el modelo de regresión logística\n",
        "model = LogisticRegression(max_iter=1000, multi_class='multinomial',class_weight= 'balanced')\n",
        "model.fit(X_train, y_train)\n",
        "\n",
        "y_pred = model.predict(X_test)\n",
        "report = classification_report(y_test, y_pred)\n",
        "\n",
        "print(report)\n",
        "\n"
      ],
      "metadata": {
        "id": "cDtEzr1gNPJJ",
        "colab": {
          "base_uri": "https://localhost:8080/"
        },
        "outputId": "d91c2a56-9631-4535-f88d-5b6ef143adda"
      },
      "execution_count": 67,
      "outputs": [
        {
          "output_type": "stream",
          "name": "stdout",
          "text": [
            "              precision    recall  f1-score   support\n",
            "\n",
            "           0       0.78      0.87      0.82        69\n",
            "           1       0.67      0.51      0.58       106\n",
            "           2       0.41      0.34      0.37        62\n",
            "           3       0.29      0.57      0.38        28\n",
            "\n",
            "    accuracy                           0.57       265\n",
            "   macro avg       0.54      0.57      0.54       265\n",
            "weighted avg       0.60      0.57      0.57       265\n",
            "\n"
          ]
        }
      ]
    },
    {
      "cell_type": "markdown",
      "source": [
        "Modelo de prediccion"
      ],
      "metadata": {
        "id": "ix-F9R89dvUO"
      }
    },
    {
      "cell_type": "code",
      "source": [
        "# Evaluar con validación cruzada\n",
        "scores = cross_val_score(grid_search.best_estimator_, X, y, cv=5, scoring='accuracy')\n",
        "\n",
        "# Mostrar resultados\n",
        "print(f\"Accuracy (cross-validated): {scores.mean():.2f} (+/- {scores.std() * 2:.2f})\")\n"
      ],
      "metadata": {
        "id": "CRS9DRgZikOk",
        "colab": {
          "base_uri": "https://localhost:8080/"
        },
        "outputId": "efb63b80-acfb-4688-bebe-5251a5cb0cb6"
      },
      "execution_count": 52,
      "outputs": [
        {
          "output_type": "stream",
          "name": "stdout",
          "text": [
            "Accuracy (cross-validated): 0.51 (+/- 0.17)\n"
          ]
        }
      ]
    },
    {
      "cell_type": "code",
      "source": [
        "\n",
        "displasia_mapping = {'NILM': 0, 'LGSIL': 1, 'HGSIL': 2, 'ICC': 3, 'CACU': 3}\n",
        "hpv_data['Tipo displasia Encoded'] = hpv_data['Tipo displasia'].map(displasia_mapping)\n",
        "hpv_data = hpv_data.drop(['Tipo displasia', 'Unnamed: 38'], axis=1)\n",
        "\n",
        "# Dividir los datos en características y objetivo\n",
        "X = hpv_data.drop('Tipo displasia Encoded', axis=1).apply(pd.to_numeric, errors='coerce').fillna(0)\n",
        "y = hpv_data['Tipo displasia Encoded']\n",
        "\n",
        "# Dividir los datos en entrenamiento y prueba\n",
        "X_train, X_test, y_train, y_test = train_test_split(X, y, test_size=0.3, random_state=42)\n",
        "\n",
        "# Ajuste del modelo con búsqueda de cuadrícula\n",
        "model = DecisionTreeClassifier()\n",
        "param_grid = {\n",
        "    'max_depth': [10, 20, 30, None],\n",
        "    'min_samples_split': [2, 5, 10],\n",
        "    'min_samples_leaf': [1, 2, 4]\n",
        "}\n",
        "grid_search = GridSearchCV(model, param_grid, cv=5, n_jobs=-1, scoring='accuracy')\n",
        "grid_search.fit(X_train, y_train)\n",
        "\n",
        "# Imprimir los mejores parámetros encontrados\n",
        "print(grid_search.best_params_)\n",
        "\n",
        "# Evaluar con validación cruzada\n",
        "best_model = grid_search.best_estimator_\n",
        "scores = cross_val_score(best_model, X, y, cv=5, scoring='accuracy')\n",
        "\n",
        "# Mostrar resultados de la validación cruzada\n",
        "print(f\"Accuracy (cross-validated): {scores.mean():.2f} (+/- {scores.std() * 2:.2f})\")\n",
        "\n",
        "# Datos para predecir\n",
        "data_to_predict = pd.DataFrame({\n",
        "    'Edad': [22], '6': [0], '11': [0], '16': [1], '18': [0], '26': [0], '31': [0], '33': [1],\n",
        "    '35': [0], '39': [0], '40': [0], '42': [0], '45': [0], '51': [0], '52': [0], '53': [0],\n",
        "    '54': [0], '55': [0], '56': [0], '58': [0], '59': [0], '61': [1], '62': [1], '64': [0],\n",
        "    '66': [0], '68': [0], '69': [1], '70': [0], '71': [0], '72': [0], '73': [0], '81': [0],\n",
        "    '82': [0], '83': [1], '84': [0], 'IS39': [0], 'CP6108': [0]\n",
        "}, index=[0])\n",
        "\n",
        "predicted_class = best_model.predict(data_to_predict)\n",
        "\n",
        "# Diccionario para traducir la clase predicha a su nombre original\n",
        "displasia_types = {0: 'NILM', 1: 'LGSIL', 2: 'HGSIL', 3: 'ICC/CACU'}\n",
        "predicted_displasia = displasia_types[predicted_class[0]]\n",
        "print(f\"La displasia predicha es: {predicted_displasia}\")\n"
      ],
      "metadata": {
        "colab": {
          "base_uri": "https://localhost:8080/"
        },
        "id": "2cfSHb_PlZoF",
        "outputId": "6dc657d0-6300-451b-8664-fc3790fe3031"
      },
      "execution_count": 72,
      "outputs": [
        {
          "output_type": "stream",
          "name": "stdout",
          "text": [
            "{'max_depth': 10, 'min_samples_leaf': 1, 'min_samples_split': 2}\n",
            "Accuracy (cross-validated): 0.51 (+/- 0.18)\n",
            "La displasia predicha es: ICC/CACU\n"
          ]
        }
      ]
    }
  ]
}